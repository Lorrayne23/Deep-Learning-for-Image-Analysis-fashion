{
 "cells": [
  {
   "cell_type": "code",
   "execution_count": 1,
   "id": "a7b0ae06-b2ac-41fe-8657-e321bbc8743c",
   "metadata": {},
   "outputs": [
    {
     "ename": "NameError",
     "evalue": "name 'nn' is not defined",
     "output_type": "error",
     "traceback": [
      "\u001b[0;31m---------------------------------------------------------------------------\u001b[0m",
      "\u001b[0;31mNameError\u001b[0m                                 Traceback (most recent call last)",
      "Cell \u001b[0;32mIn[1], line 1\u001b[0m\n\u001b[0;32m----> 1\u001b[0m \u001b[38;5;28;01mclass\u001b[39;00m \u001b[38;5;21;01mDiscriminatorACGAN\u001b[39;00m(nn\u001b[38;5;241m.\u001b[39mModule):\n\u001b[1;32m      2\u001b[0m     \u001b[38;5;28;01mdef\u001b[39;00m \u001b[38;5;21m__init__\u001b[39m(\u001b[38;5;28mself\u001b[39m, nz\u001b[38;5;241m=\u001b[39m\u001b[38;5;241m1\u001b[39m, nc\u001b[38;5;241m=\u001b[39m\u001b[38;5;241m1\u001b[39m, input_size\u001b[38;5;241m=\u001b[39m\u001b[38;5;241m32\u001b[39m, class_num\u001b[38;5;241m=\u001b[39m\u001b[38;5;241m10\u001b[39m):\n\u001b[1;32m      3\u001b[0m         \u001b[38;5;28msuper\u001b[39m(DiscriminatorACGAN, \u001b[38;5;28mself\u001b[39m)\u001b[38;5;241m.\u001b[39m\u001b[38;5;21m__init__\u001b[39m()\n",
      "\u001b[0;31mNameError\u001b[0m: name 'nn' is not defined"
     ]
    }
   ],
   "source": [
    "class DiscriminatorACGAN(nn.Module):\n",
    "    def __init__(self, nz=1, nc=1, input_size=32, class_num=10):\n",
    "        super(DiscriminatorACGAN, self).__init__()\n",
    "        self.nz = nz\n",
    "        self.nc = nc\n",
    "        self.input_size = input_size\n",
    "        self.class_num = class_num\n",
    "\n",
    "        self.conv = nn.Sequential(\n",
    "            nn.Conv2d(self.nz, 64, 4, 2, 1),\n",
    "            nn.LeakyReLU(0.2),\n",
    "            nn.Conv2d(64, 128, 4, 2, 1),\n",
    "            nn.BatchNorm2d(128),\n",
    "            nn.LeakyReLU(0.2),\n",
    "        )\n",
    "        self.fc1 = nn.Sequential(\n",
    "            nn.Linear(128 * (self.input_size // 4) * (self.input_size // 4), 1024),\n",
    "            nn.BatchNorm1d(1024),\n",
    "            nn.LeakyReLU(0.2),\n",
    "        )\n",
    "        self.dc = nn.Sequential(\n",
    "            nn.Linear(1024, self.nc),\n",
    "            nn.Sigmoid(),\n",
    "        )\n",
    "        self.cl = nn.Sequential(\n",
    "            nn.Linear(1024, self.class_num),\n",
    "        )\n",
    "        initialize_weights(self)\n",
    "\n",
    "    def forward(self, input):\n",
    "        x = self.conv(input)\n",
    "        x = x.view(-1, 128 * (self.input_size // 4) * (self.input_size // 4))\n",
    "        x = self.fc1(x)\n",
    "        d = self.dc(x)\n",
    "        c = self.cl(x)\n",
    "\n",
    "        return d, c"
   ]
  },
  {
   "cell_type": "code",
   "execution_count": null,
   "id": "41e9fd25-c17d-469e-a622-326ce48cf604",
   "metadata": {},
   "outputs": [],
   "source": [
    "# networks init ACGAN\n",
    "\n",
    "input_size = 28\n",
    "z_dim = 62\n",
    "class_num = 10\n",
    "sample_num = class_num ** 2\n",
    "batch_size = 64\n",
    "\n",
    "# networks init\n",
    "lrG= 0.0002\n",
    "lrD=0.0002\n",
    "beta1=0.5\n",
    "beta2=0.99\n",
    "\n",
    "G = Generator(nz=z_dim, nc=1, input_size=input_size, class_num=class_num)\n",
    "D = DiscriminatorACGAN(nz=1, nc=1, input_size=input_size, class_num=class_num)\n",
    "\n",
    "print(G)\n",
    "print(D)\n",
    "\n",
    "optimizerG = optim.Adam(G.parameters(), lr=lrG, betas=(beta1, beta2))\n",
    "optimizerD = optim.Adam(D.parameters(), lr=lrD, betas=(beta1, beta2))\n",
    "\n",
    "# Define loss\n",
    "\n",
    "BCE_loss = nn.BCELoss()\n",
    "CE_loss = nn.CrossEntropyLoss()"
   ]
  },
  {
   "cell_type": "code",
   "execution_count": null,
   "id": "e186b32a-4ec7-4f89-beaa-71123fb44749",
   "metadata": {},
   "outputs": [],
   "source": []
  },
  {
   "cell_type": "code",
   "execution_count": null,
   "id": "6685f9a5-b290-40a3-be20-add58783657e",
   "metadata": {},
   "outputs": [],
   "source": []
  }
 ],
 "metadata": {
  "kernelspec": {
   "display_name": "Python 3 (ipykernel)",
   "language": "python",
   "name": "python3"
  },
  "language_info": {
   "codemirror_mode": {
    "name": "ipython",
    "version": 3
   },
   "file_extension": ".py",
   "mimetype": "text/x-python",
   "name": "python",
   "nbconvert_exporter": "python",
   "pygments_lexer": "ipython3",
   "version": "3.12.4"
  }
 },
 "nbformat": 4,
 "nbformat_minor": 5
}
