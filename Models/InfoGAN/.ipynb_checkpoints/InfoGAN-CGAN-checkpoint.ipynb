{
 "cells": [
  {
   "cell_type": "code",
   "execution_count": null,
   "id": "97f77484-9547-4db3-a63c-889d904ecff5",
   "metadata": {},
   "outputs": [],
   "source": [
    "# InfoGAN\n",
    "class Generator(nn.Module):\n",
    "    def __init__(self,nz=100, nc=1, input_size=32, class_num=10):\n",
    "        super(Generator, self).__init__()\n",
    "        self.nz = nz\n",
    "        self.nc = nc\n",
    "        self.input_size = input_size\n",
    "        self.class_num = class_num\n",
    "\n",
    "        self.fc = nn.Sequential(\n",
    "            nn.Linear(self.nz+ self.class_num, 1024),\n",
    "            nn.BatchNorm1d(1024),\n",
    "            nn.ReLU(),\n",
    "            nn.Linear(1024, 128 * (self.input_size // 4) * (self.input_size // 4)),\n",
    "            nn.BatchNorm1d(128 * (self.input_size // 4) * (self.input_size // 4)),\n",
    "            nn.ReLU(),\n",
    "        )\n",
    "        self.deconv = nn.Sequential(\n",
    "            nn.ConvTranspose2d(128, 64, 4, 2, 1),\n",
    "            nn.BatchNorm2d(64),\n",
    "            nn.ReLU(),\n",
    "            nn.ConvTranspose2d(64, self.nc, 4, 2, 1),\n",
    "            nn.Tanh(),\n",
    "        )\n",
    "        initialize_weights(self)\n",
    "\n",
    "    def forward(self, input, label):\n",
    "        x = torch.cat([input, label], 1)\n",
    "        x = self.fc(x)\n",
    "        x = x.view(-1, 128, (self.input_size // 4), (self.input_size // 4))\n",
    "        x = self.deconv(x)\n",
    "\n",
    "        return x\n",
    "\n"
   ]
  },
  {
   "cell_type": "code",
   "execution_count": null,
   "id": "1f88c8d7-eb27-48f6-95b3-898df48efe82",
   "metadata": {},
   "outputs": [],
   "source": [
    "# CGAN\n",
    "class Discriminator(nn.Module):\n",
    "    def __init__(self, nz=1, nc=1, input_size=32, class_num=10):\n",
    "        super(Discriminator, self).__init__()\n",
    "        self.nz = nz\n",
    "        self.nc = nc\n",
    "        self.input_size = input_size\n",
    "        self.class_num = class_num\n",
    "\n",
    "        self.conv = nn.Sequential(\n",
    "            nn.Conv2d(self.nz + self.class_num, 64, 4, 2, 1),\n",
    "            nn.LeakyReLU(0.2),\n",
    "            nn.Conv2d(64, 128, 4, 2, 1),\n",
    "            nn.BatchNorm2d(128),\n",
    "            nn.LeakyReLU(0.2),\n",
    "        )\n",
    "        self.fc = nn.Sequential(\n",
    "            nn.Linear(128 * (self.input_size // 4) * (self.input_size // 4), 1024),\n",
    "            nn.BatchNorm1d(1024),\n",
    "            nn.LeakyReLU(0.2),\n",
    "            nn.Linear(1024, self.nc),\n",
    "            nn.Sigmoid(),\n",
    "        )\n",
    "        initialize_weights(self)\n",
    "\n",
    "    def forward(self, input, label):\n",
    "        x = torch.cat([input, label], 1)\n",
    "        x = self.conv(x)\n",
    "        x = x.view(-1, 128 * (self.input_size // 4) * (self.input_size // 4))\n",
    "        x = self.fc(x)\n",
    "\n",
    "        return x\n",
    "\n"
   ]
  },
  {
   "cell_type": "code",
   "execution_count": null,
   "id": "1e1b8d74-4483-4c2a-8f9b-c9502422162b",
   "metadata": {},
   "outputs": [],
   "source": [
    "# Define weights\n",
    "def initialize_weights(net):\n",
    "    for m in net.modules():\n",
    "        if isinstance(m, nn.Conv2d):\n",
    "            m.weight.data.normal_(0, 0.02)\n",
    "            m.bias.data.zero_()\n",
    "        elif isinstance(m, nn.ConvTranspose2d):\n",
    "            m.weight.data.normal_(0, 0.02)\n",
    "            m.bias.data.zero_()\n",
    "        elif isinstance(m, nn.Linear):\n",
    "            m.weight.data.normal_(0, 0.02)\n",
    "            m.bias.data.zero_()"
   ]
  },
  {
   "cell_type": "code",
   "execution_count": null,
   "id": "cb321945-afbc-4155-aee1-58e6b968cd1d",
   "metadata": {},
   "outputs": [],
   "source": [
    "# Learning rates\n",
    "lrG= 0.000055\n",
    "lrD=0.0002\n",
    "beta1=0.5\n",
    "beta2=0.99\n",
    "\n",
    "# Define model\n",
    "G = Generator(nz=z_dim, nc=1, input_size=input_size, class_num=class_num)\n",
    "D = Discriminator(nz=1, nc=1, input_size=input_size, class_num=class_num)\n",
    "\n",
    "print(G)\n",
    "print(D)\n",
    "\n",
    "#Optimizers\n",
    "optimizerG = optim.Adam(G.parameters(), lr=lrG, betas=(beta1, beta2))\n",
    "optimizerD = optim.Adam(D.parameters(), lr=lrD, betas=(beta1, beta2))\n",
    "\n",
    "# Define loss\n",
    "BCE_loss = nn.BCELoss()"
   ]
  },
  {
   "cell_type": "code",
   "execution_count": null,
   "id": "937fa818-4899-4317-858f-6d9c732f8da8",
   "metadata": {},
   "outputs": [],
   "source": [
    "d_losses_infogan_cgan ,g_losses_infogan_cgan  , SSIM_SCORES_infogan_cgan ,KID_SCORES_infogan_cgan = train_model(\"InfoGan-CGAN\",G,D,\"20\")"
   ]
  },
  {
   "cell_type": "code",
   "execution_count": null,
   "id": "a4f2f194-1404-4549-8058-c7c0017c6918",
   "metadata": {},
   "outputs": [],
   "source": [
    "plot_losses(d_losses_infogan_cgan, g_losses_infogan_cgan,\"InfoGAN-CGAN\")\n",
    "ssim_plot(SSIM_SCORES_infogan_cgan,\"InfoGAN-CGAN\")\n",
    "kid_plot(KID_SCORES_infogan_cgan,\"InfoGAN-CGAN\")"
   ]
  }
 ],
 "metadata": {
  "kernelspec": {
   "display_name": "Python 3 (ipykernel)",
   "language": "python",
   "name": "python3"
  },
  "language_info": {
   "codemirror_mode": {
    "name": "ipython",
    "version": 3
   },
   "file_extension": ".py",
   "mimetype": "text/x-python",
   "name": "python",
   "nbconvert_exporter": "python",
   "pygments_lexer": "ipython3",
   "version": "3.12.4"
  }
 },
 "nbformat": 4,
 "nbformat_minor": 5
}
