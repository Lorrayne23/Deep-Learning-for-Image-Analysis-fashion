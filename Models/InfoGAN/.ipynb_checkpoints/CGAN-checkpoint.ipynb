{
 "cells": [
  {
   "cell_type": "code",
   "execution_count": null,
   "id": "1331c356-f5de-4dcd-a79c-d159b12d6223",
   "metadata": {},
   "outputs": [],
   "source": [
    "!pip install pytorch-msssim\n",
    "!pip install faiss-cpu\n",
    "!pip install wandb\n",
    "!pip install sympy"
   ]
  },
  {
   "cell_type": "code",
   "execution_count": null,
   "id": "d9e68bd0-a361-4ac1-a8c7-418ccc9de335",
   "metadata": {},
   "outputs": [],
   "source": [
    "from torchvision import datasets, transforms\n",
    "\n",
    "from torchvision.utils import save_image\n",
    "from torch.utils.data import DataLoader\n",
    "import matplotlib.pyplot as plt\n",
    "\n",
    "from torchsummary import summary\n",
    "import torch.optim as optim\n",
    "import logging\n",
    "\n",
    "import wandb\n",
    "import random\n",
    "\n",
    "import  torch, time, os, pickle\n",
    "import os\n",
    "import torch\n",
    "import numpy as np\n",
    "\n",
    "from os import listdir\n",
    " \n",
    "\n",
    "import torch\n",
    "import torch.nn.functional as F\n",
    "\n",
    "from pytorch_msssim import ssim  # For SSIM metric\n",
    "import numpy as np\n",
    "import torch.nn as nn\n",
    "import torch.optim as optim\n",
    "\n",
    "\n",
    "import matplotlib.image as mpimg\n"
   ]
  },
  {
   "cell_type": "code",
   "execution_count": null,
   "id": "c4852e60-a774-4d3a-8812-174e2c08e4b0",
   "metadata": {},
   "outputs": [],
   "source": [
    "# Define device as cuda if available\n",
    "\n",
    "device = torch.device(\"cuda\" if torch.cuda.is_available() else \"cpu\")"
   ]
  },
  {
   "cell_type": "code",
   "execution_count": null,
   "id": "45c5bd2f-f667-48a3-963f-7ce82b3ebd31",
   "metadata": {},
   "outputs": [],
   "source": [
    "def save_images(epoch,y_,model_type):\n",
    "    os.makedirs('outputs', exist_ok=True)\n",
    "    z_ = torch.rand((batch_size, z_dim))\n",
    "    y_vec_ = torch.zeros((batch_size, class_num)) \\\n",
    "            .scatter_(1, y_.type(torch.LongTensor).unsqueeze(1), 1)\n",
    "    fake_images = G(z_,y_vec_).detach().cpu()\n",
    "    save_image(fake_images, f'outputs/'+model_type+str(epoch)+'.png', nrow=8, normalize=True)"
   ]
  },
  {
   "cell_type": "code",
   "execution_count": null,
   "id": "6bf47f8a-50b5-49ad-9c0e-dbe64fe31314",
   "metadata": {},
   "outputs": [],
   "source": [
    "def generated_images():\n",
    "  folder_dir = \"/content/outputs/\"\n",
    "\n",
    "  for image in os.listdir(folder_dir):\n",
    "      img = mpimg.imread(folder_dir+image)\n",
    "      plt.imshow(img)\n",
    "      plt.axis('off')  \n",
    "      plt.show()"
   ]
  },
  {
   "cell_type": "code",
   "execution_count": null,
   "id": "3701a621-da96-42b6-8c8d-b1ce8a5b77ac",
   "metadata": {},
   "outputs": [],
   "source": [
    "class GeneratorCGAN(nn.Module):\n",
    "    def __init__(self, nz=100, nc=1, input_size=32, class_num=10):\n",
    "        super(GeneratorCGAN, self).__init__()\n",
    "        self.nz = nz\n",
    "        self.nc = nc\n",
    "        self.input_size = input_size\n",
    "        self.class_num = class_num\n",
    "\n",
    "      \n",
    "        self.fc = nn.Sequential(\n",
    "            nn.Linear(self.nz + self.class_num, 1024),\n",
    "            nn.ReLU(),\n",
    "            nn.Linear(1024, 128 * (self.input_size // 4) * (self.input_size // 4)),\n",
    "            nn.ReLU(),\n",
    "        )\n",
    "    \n",
    "        self.deconv = nn.Sequential(\n",
    "            nn.ConvTranspose2d(128, 64, 4, 2, 1),\n",
    "            nn.ReLU(),\n",
    "            nn.ConvTranspose2d(64, self.nc, 4, 2, 1),\n",
    "            nn.Tanh(),  \n",
    "        )\n",
    "\n",
    "        self.apply(self._initialize_weights)\n",
    "\n",
    "    def forward(self, input, label):\n",
    "        x = torch.cat([input, label], 1)\n",
    "        \n",
    "\n",
    "        x = self.fc(x)\n",
    "        x = x.view(-1, 128, (self.input_size // 4), (self.input_size // 4))\n",
    "\n",
    "    \n",
    "        x = self.deconv(x)\n",
    "\n",
    "        return x\n",
    "\n",
    "    def _initialize_weights(self, m):\n",
    "        if isinstance(m, nn.ConvTranspose2d) or isinstance(m, nn.Linear):\n",
    "            nn.init.normal_(m.weight, 0, 0.02)\n",
    "            if m.bias is not None:\n",
    "                nn.init.constant_(m.bias, 0)\n"
   ]
  }
 ],
 "metadata": {
  "kernelspec": {
   "display_name": "Python 3 (ipykernel)",
   "language": "python",
   "name": "python3"
  },
  "language_info": {
   "codemirror_mode": {
    "name": "ipython",
    "version": 3
   },
   "file_extension": ".py",
   "mimetype": "text/x-python",
   "name": "python",
   "nbconvert_exporter": "python",
   "pygments_lexer": "ipython3",
   "version": "3.12.4"
  }
 },
 "nbformat": 4,
 "nbformat_minor": 5
}
