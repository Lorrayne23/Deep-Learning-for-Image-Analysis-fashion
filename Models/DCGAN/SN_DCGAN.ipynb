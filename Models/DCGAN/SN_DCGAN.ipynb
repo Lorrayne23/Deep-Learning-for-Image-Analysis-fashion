{
  "nbformat": 4,
  "nbformat_minor": 0,
  "metadata": {
    "colab": {
      "provenance": [],
      "machine_shape": "hm",
      "gpuType": "A100"
    },
    "kernelspec": {
      "name": "python3",
      "display_name": "Python 3"
    },
    "language_info": {
      "name": "python"
    },
    "accelerator": "GPU"
  },
  "cells": [
    {
      "cell_type": "markdown",
      "source": [
        "## Spectral Normalization with DCGAN\n",
        "\n",
        "Based in :\n",
        " https://arxiv.org/abs/1802.05957\n",
        "\n",
        " https://arxiv.org/abs/1511.06434"
      ],
      "metadata": {
        "id": "bwH_ldARcc3y"
      }
    },
    {
      "cell_type": "code",
      "source": [
        "!pip install pytorch-msssim\n",
        "!pip install faiss-cpu\n",
        "!pip install wandb"
      ],
      "metadata": {
        "colab": {
          "base_uri": "https://localhost:8080/"
        },
        "id": "YMTh2v40kAhi",
        "outputId": "c44043e4-599d-42e2-99a6-4e588dacebb1"
      },
      "execution_count": 30,
      "outputs": [
        {
          "output_type": "stream",
          "name": "stdout",
          "text": [
            "Requirement already satisfied: pytorch-msssim in /usr/local/lib/python3.11/dist-packages (1.0.0)\n",
            "Requirement already satisfied: torch in /usr/local/lib/python3.11/dist-packages (from pytorch-msssim) (2.6.0+cu124)\n",
            "Requirement already satisfied: filelock in /usr/local/lib/python3.11/dist-packages (from torch->pytorch-msssim) (3.18.0)\n",
            "Requirement already satisfied: typing-extensions>=4.10.0 in /usr/local/lib/python3.11/dist-packages (from torch->pytorch-msssim) (4.13.2)\n",
            "Requirement already satisfied: networkx in /usr/local/lib/python3.11/dist-packages (from torch->pytorch-msssim) (3.4.2)\n",
            "Requirement already satisfied: jinja2 in /usr/local/lib/python3.11/dist-packages (from torch->pytorch-msssim) (3.1.6)\n",
            "Requirement already satisfied: fsspec in /usr/local/lib/python3.11/dist-packages (from torch->pytorch-msssim) (2025.3.2)\n",
            "Requirement already satisfied: nvidia-cuda-nvrtc-cu12==12.4.127 in /usr/local/lib/python3.11/dist-packages (from torch->pytorch-msssim) (12.4.127)\n",
            "Requirement already satisfied: nvidia-cuda-runtime-cu12==12.4.127 in /usr/local/lib/python3.11/dist-packages (from torch->pytorch-msssim) (12.4.127)\n",
            "Requirement already satisfied: nvidia-cuda-cupti-cu12==12.4.127 in /usr/local/lib/python3.11/dist-packages (from torch->pytorch-msssim) (12.4.127)\n",
            "Requirement already satisfied: nvidia-cudnn-cu12==9.1.0.70 in /usr/local/lib/python3.11/dist-packages (from torch->pytorch-msssim) (9.1.0.70)\n",
            "Requirement already satisfied: nvidia-cublas-cu12==12.4.5.8 in /usr/local/lib/python3.11/dist-packages (from torch->pytorch-msssim) (12.4.5.8)\n",
            "Requirement already satisfied: nvidia-cufft-cu12==11.2.1.3 in /usr/local/lib/python3.11/dist-packages (from torch->pytorch-msssim) (11.2.1.3)\n",
            "Requirement already satisfied: nvidia-curand-cu12==10.3.5.147 in /usr/local/lib/python3.11/dist-packages (from torch->pytorch-msssim) (10.3.5.147)\n",
            "Requirement already satisfied: nvidia-cusolver-cu12==11.6.1.9 in /usr/local/lib/python3.11/dist-packages (from torch->pytorch-msssim) (11.6.1.9)\n",
            "Requirement already satisfied: nvidia-cusparse-cu12==12.3.1.170 in /usr/local/lib/python3.11/dist-packages (from torch->pytorch-msssim) (12.3.1.170)\n",
            "Requirement already satisfied: nvidia-cusparselt-cu12==0.6.2 in /usr/local/lib/python3.11/dist-packages (from torch->pytorch-msssim) (0.6.2)\n",
            "Requirement already satisfied: nvidia-nccl-cu12==2.21.5 in /usr/local/lib/python3.11/dist-packages (from torch->pytorch-msssim) (2.21.5)\n",
            "Requirement already satisfied: nvidia-nvtx-cu12==12.4.127 in /usr/local/lib/python3.11/dist-packages (from torch->pytorch-msssim) (12.4.127)\n",
            "Requirement already satisfied: nvidia-nvjitlink-cu12==12.4.127 in /usr/local/lib/python3.11/dist-packages (from torch->pytorch-msssim) (12.4.127)\n",
            "Requirement already satisfied: triton==3.2.0 in /usr/local/lib/python3.11/dist-packages (from torch->pytorch-msssim) (3.2.0)\n",
            "Requirement already satisfied: sympy==1.13.1 in /usr/local/lib/python3.11/dist-packages (from torch->pytorch-msssim) (1.13.1)\n",
            "Requirement already satisfied: mpmath<1.4,>=1.1.0 in /usr/local/lib/python3.11/dist-packages (from sympy==1.13.1->torch->pytorch-msssim) (1.3.0)\n",
            "Requirement already satisfied: MarkupSafe>=2.0 in /usr/local/lib/python3.11/dist-packages (from jinja2->torch->pytorch-msssim) (3.0.2)\n",
            "Requirement already satisfied: faiss-cpu in /usr/local/lib/python3.11/dist-packages (1.10.0)\n",
            "Requirement already satisfied: numpy<3.0,>=1.25.0 in /usr/local/lib/python3.11/dist-packages (from faiss-cpu) (2.0.2)\n",
            "Requirement already satisfied: packaging in /usr/local/lib/python3.11/dist-packages (from faiss-cpu) (24.2)\n",
            "Requirement already satisfied: wandb in /usr/local/lib/python3.11/dist-packages (0.19.9)\n",
            "Requirement already satisfied: click!=8.0.0,>=7.1 in /usr/local/lib/python3.11/dist-packages (from wandb) (8.1.8)\n",
            "Requirement already satisfied: docker-pycreds>=0.4.0 in /usr/local/lib/python3.11/dist-packages (from wandb) (0.4.0)\n",
            "Requirement already satisfied: gitpython!=3.1.29,>=1.0.0 in /usr/local/lib/python3.11/dist-packages (from wandb) (3.1.44)\n",
            "Requirement already satisfied: platformdirs in /usr/local/lib/python3.11/dist-packages (from wandb) (4.3.7)\n",
            "Requirement already satisfied: protobuf!=4.21.0,!=5.28.0,<6,>=3.19.0 in /usr/local/lib/python3.11/dist-packages (from wandb) (5.29.4)\n",
            "Requirement already satisfied: psutil>=5.0.0 in /usr/local/lib/python3.11/dist-packages (from wandb) (5.9.5)\n",
            "Requirement already satisfied: pydantic<3 in /usr/local/lib/python3.11/dist-packages (from wandb) (2.11.3)\n",
            "Requirement already satisfied: pyyaml in /usr/local/lib/python3.11/dist-packages (from wandb) (6.0.2)\n",
            "Requirement already satisfied: requests<3,>=2.0.0 in /usr/local/lib/python3.11/dist-packages (from wandb) (2.32.3)\n",
            "Requirement already satisfied: sentry-sdk>=2.0.0 in /usr/local/lib/python3.11/dist-packages (from wandb) (2.26.1)\n",
            "Requirement already satisfied: setproctitle in /usr/local/lib/python3.11/dist-packages (from wandb) (1.3.5)\n",
            "Requirement already satisfied: setuptools in /usr/local/lib/python3.11/dist-packages (from wandb) (75.2.0)\n",
            "Requirement already satisfied: typing-extensions<5,>=4.4 in /usr/local/lib/python3.11/dist-packages (from wandb) (4.13.2)\n",
            "Requirement already satisfied: six>=1.4.0 in /usr/local/lib/python3.11/dist-packages (from docker-pycreds>=0.4.0->wandb) (1.17.0)\n",
            "Requirement already satisfied: gitdb<5,>=4.0.1 in /usr/local/lib/python3.11/dist-packages (from gitpython!=3.1.29,>=1.0.0->wandb) (4.0.12)\n",
            "Requirement already satisfied: annotated-types>=0.6.0 in /usr/local/lib/python3.11/dist-packages (from pydantic<3->wandb) (0.7.0)\n",
            "Requirement already satisfied: pydantic-core==2.33.1 in /usr/local/lib/python3.11/dist-packages (from pydantic<3->wandb) (2.33.1)\n",
            "Requirement already satisfied: typing-inspection>=0.4.0 in /usr/local/lib/python3.11/dist-packages (from pydantic<3->wandb) (0.4.0)\n",
            "Requirement already satisfied: charset-normalizer<4,>=2 in /usr/local/lib/python3.11/dist-packages (from requests<3,>=2.0.0->wandb) (3.4.1)\n",
            "Requirement already satisfied: idna<4,>=2.5 in /usr/local/lib/python3.11/dist-packages (from requests<3,>=2.0.0->wandb) (3.10)\n",
            "Requirement already satisfied: urllib3<3,>=1.21.1 in /usr/local/lib/python3.11/dist-packages (from requests<3,>=2.0.0->wandb) (2.3.0)\n",
            "Requirement already satisfied: certifi>=2017.4.17 in /usr/local/lib/python3.11/dist-packages (from requests<3,>=2.0.0->wandb) (2025.1.31)\n",
            "Requirement already satisfied: smmap<6,>=3.0.1 in /usr/local/lib/python3.11/dist-packages (from gitdb<5,>=4.0.1->gitpython!=3.1.29,>=1.0.0->wandb) (5.0.2)\n"
          ]
        }
      ]
    },
    {
      "cell_type": "code",
      "source": [
        "import torch\n",
        "import torch.nn.functional as F\n",
        "from torchvision import models\n",
        "from pytorch_msssim import ssim  # For SSIM metric\n",
        "import numpy as np\n",
        "\n",
        "import torch\n",
        "import torch.nn as nn\n",
        "import torch.optim as optim\n",
        "from torchvision import datasets, transforms\n",
        "from torchvision.utils import save_image\n",
        "from torch.utils.data import DataLoader\n",
        "import matplotlib.pyplot as plt\n",
        "import os\n",
        "from torchsummary import summary\n",
        "import torch.optim as optim\n",
        "import logging"
      ],
      "metadata": {
        "id": "eSU2tZtUxB9i"
      },
      "execution_count": 44,
      "outputs": []
    },
    {
      "cell_type": "code",
      "source": [
        "def save_images(epoch):\n",
        "    os.makedirs('outputs', exist_ok=True)\n",
        "    fixed_noise = torch.randn(32, 100, device=device)\n",
        "    fake_images = G(fixed_noise).detach().cpu()\n",
        "    save_image(fake_images, f'outputs/epoch_{epoch}.png', nrow=8, normalize=True)"
      ],
      "metadata": {
        "id": "B2UMqowT0qKA"
      },
      "execution_count": 32,
      "outputs": []
    },
    {
      "cell_type": "code",
      "source": [
        "# KID (Kernel Inception Distance)\n",
        "# Based on :  https://medium.com@heyamit10/pytorch-implementation-of-common-gan-metrics-86f993f6e737\n",
        "\n",
        "def polynomial_mmd(x, y, degree=3, gamma=None, coef0=1):\n",
        "    x = x.reshape(x.size(0), -1)  # Reshape to 2D\n",
        "    y = y.reshape(y.size(0), -1)  # Reshape to 2D\n",
        "    if gamma is None:\n",
        "        gamma = 1.0 / x.shape[1]\n",
        "    kernel_xx = (gamma * x.mm(x.t()) + coef0) ** degree\n",
        "    kernel_yy = (gamma * y.mm(y.t()) + coef0) ** degree\n",
        "    kernel_xy = (gamma * x.mm(y.t()) + coef0) ** degree\n",
        "    return kernel_xx.mean() + kernel_yy.mean() - 2 * kernel_xy.mean()\n",
        "\n",
        "\n",
        "\n",
        "def kernel_inception_distance(real_features, generated_features):\n",
        "    real_features, generated_features = torch.tensor(real_features), torch.tensor(generated_features)\n",
        "    return polynomial_mmd(real_features, generated_features)"
      ],
      "metadata": {
        "id": "cxvF_kDPkRBu"
      },
      "execution_count": 34,
      "outputs": []
    },
    {
      "cell_type": "code",
      "source": [
        "# number of channels\n",
        "nc=1\n",
        "\n",
        "# input noise dimension\n",
        "nz = 100\n",
        "\n",
        "# number of generator filters\n",
        "ngf = 64\n",
        "\n",
        "#number of discriminator filters\n",
        "ndf = 64"
      ],
      "metadata": {
        "id": "iNPuUDwF3Y52"
      },
      "execution_count": 35,
      "outputs": []
    },
    {
      "cell_type": "code",
      "source": [
        "# Baseline from LAB 5 (INM705 Deep Learning for Image Analysis)\n",
        "\n",
        "class Generator(nn.Module):\n",
        "      def __init__(self, nc, ngf, nz):\n",
        "        super(Generator, self).__init__()\n",
        "        self.nc = nc\n",
        "        self.ngf = ngf\n",
        "        self.nz = nz\n",
        "        self.model = nn.Sequential(\n",
        "            nn.Linear(100, 7*7*(self.ngf*4), bias=False),\n",
        "            nn.BatchNorm1d(7*7*(self.ngf*4)),\n",
        "            nn.LeakyReLU(0.3),\n",
        "            nn.Unflatten(self.nc, (self.ngf*4, 7, 7)),\n",
        "            nn.ConvTranspose2d(self.ngf*4, self.ngf*2, 5, stride=1, padding=2, bias=False),\n",
        "            nn.BatchNorm2d(self.ngf*2),\n",
        "            nn.LeakyReLU(0.3),\n",
        "            nn.ConvTranspose2d(self.ngf*2, self.ngf, 5, stride=2, padding=2, output_padding=1, bias=False),\n",
        "            nn.BatchNorm2d(self.ngf),\n",
        "            nn.LeakyReLU(0.3),\n",
        "            nn.ConvTranspose2d(self.ngf, self.nc, 5, stride=2, padding=2, output_padding=1, bias=False),\n",
        "            nn.Tanh()\n",
        "        )\n",
        "\n",
        "      def forward(self, x):\n",
        "        return self.model(x)\n"
      ],
      "metadata": {
        "id": "3wiU318_xLpS"
      },
      "execution_count": 36,
      "outputs": []
    },
    {
      "cell_type": "code",
      "source": [
        "class Discriminator(nn.Module):\n",
        "    def __init__(self, nc, ndf):\n",
        "        super(Discriminator, self).__init__()\n",
        "        self.nc = nc\n",
        "        self.ndf = ndf\n",
        "        self.model = nn.Sequential(\n",
        "            utils.spectral_norm(nn.Conv2d(self.nc, self.ndf, 5, stride=2, padding=2)),\n",
        "            nn.LeakyReLU(0.3),\n",
        "            utils.spectral_norm(nn.Conv2d(self.ndf,self.ndf*2, 5, stride=2, padding=2)),\n",
        "            nn.LeakyReLU(0.3),\n",
        "            nn.Flatten(),\n",
        "            utils.spectral_norm(nn.Linear((self.ndf*2)*7*7, 1)),\n",
        "            nn.Sigmoid()\n",
        "        )\n",
        "\n",
        "    def forward(self, x):\n",
        "        return self.model(x)"
      ],
      "metadata": {
        "id": "14YpAhXfcaWW"
      },
      "execution_count": 37,
      "outputs": []
    },
    {
      "cell_type": "code",
      "source": [
        "criterion = nn.BCELoss()\n",
        "\n",
        "n_epochs = 50\n",
        "z_dim = 64\n",
        "display_step = 500\n",
        "batch_size = 128\n",
        "\n",
        "device = 'cuda'\n",
        "transform = transforms.Compose([\n",
        "    transforms.ToTensor(),\n",
        "    transforms.Normalize((0.5,), (0.5,)),\n",
        "])\n",
        "\n",
        "# Dataset\n",
        "\n",
        "train_dataset = datasets.FashionMNIST(root='./data', train=True, download=True, transform=transform)\n",
        "dataloader = DataLoader(dataset=train_dataset, batch_size=32, shuffle=True)"
      ],
      "metadata": {
        "id": "wpk4lCtlxlq_"
      },
      "execution_count": 38,
      "outputs": []
    },
    {
      "cell_type": "code",
      "source": [
        "D = Discriminator(nc,ndf).to(device)\n",
        "G = Generator(nc,ngf,nz).to(device)\n",
        "\n",
        "optimizerD = torch.optim.Adam(D.parameters(), lr=5e-4)\n",
        "optimizerG = torch.optim.Adam(G.parameters(), lr=5e-4)"
      ],
      "metadata": {
        "id": "zKAsM9CDxrVj"
      },
      "execution_count": 41,
      "outputs": []
    },
    {
      "cell_type": "code",
      "source": [
        "# Define lists to save scores\n",
        "\n",
        "# Start a new wandb run to track this script.\n",
        "run = wandb.init(\n",
        "\n",
        "          # Set the wandb entity.\n",
        "          entity=\"lorrayne-reis-silva-city-university-of-london\",\n",
        "          # Set the wandb project where this run will be logged.\n",
        "          project=\"SAGAN-DCGAN_final_run\",\n",
        "          # Track hyperparameters and run metadata.\n",
        "          config={\n",
        "              \"learning_rate_G\": 5e-4,\n",
        "              \"learning_rate_D\": 5e-4,\n",
        "              \"architecture\": \"final-version-SN_DCGAN\",\n",
        "              \"dataset\": \"Fashion-MNIST\",\n",
        "              \"epochs\": 50,\n",
        "          },\n",
        "      )\n",
        "\n",
        "\n",
        "d_losses = []\n",
        "g_losses = []\n",
        "SSIM_SCORES = []\n",
        "SSIM_SCORES_EPOCHS = []\n",
        "KID_SCORES = []\n",
        "KID_SCORES_EPOCHS = []\n",
        "\n",
        "num_epochs = 50\n",
        "\n",
        "for epoch in range(num_epochs):\n",
        "\n",
        "    d_loss_total = 0.0\n",
        "    g_loss_total = 0.0\n",
        "\n",
        "    for i, (idx, _) in enumerate(dataloader):\n",
        "\n",
        "        ############################\n",
        "        # (1) Update D network: maximize log(D(x)) + log(1 - D(G(z)))\n",
        "        ###########################\n",
        "        # Train with all-real batch\n",
        "        real_images = idx.to(device)\n",
        "        real_labels = torch.ones(idx.size(0), 1, device=device)\n",
        "        fake_labels = torch.zeros(idx.size(0), 1, device=device)\n",
        "\n",
        "        D.zero_grad()\n",
        "        output = D(real_images)\n",
        "        errD_real = criterion(output, real_labels)\n",
        "        errD_real.backward()\n",
        "        D_x = output.mean().item()\n",
        "\n",
        "        # Train with all-fake batch\n",
        "        noise = torch.randn(idx.size(0), 100, device=device)\n",
        "        fake = G(noise)\n",
        "        output = D(fake.detach())\n",
        "        errD_fake = criterion(output, fake_labels)\n",
        "        errD_fake.backward()\n",
        "        D_G_z1 = output.mean().item()\n",
        "\n",
        "        # Compute error of D\n",
        "        optimizerD.step()\n",
        "        d_loss_total += errD_real.item() + errD_fake.item()\n",
        "\n",
        "        ############################\n",
        "        # (2) Update G network: maximize log(D(G(z)))\n",
        "        ###########################\n",
        "        G.zero_grad()\n",
        "        output = D(fake)\n",
        "        errG = criterion(output, real_labels)\n",
        "        errG.backward()\n",
        "        D_G_z2 = output.mean().item()\n",
        "\n",
        "        optimizerG.step()\n",
        "        g_loss_total += errG.item()\n",
        "\n",
        "        #p = compute_precision_recall(real_images.detach(), fake.detach())\n",
        "        #print(p)\n",
        "        run.log({\"D_loss\": d_loss_total, \"G_loss\": errG.item()})\n",
        "\n",
        "        #Compute KID\n",
        "        kid = kernel_inception_distance(real_images.detach(), fake.detach())\n",
        "        KID_SCORES.append(kid.item())\n",
        "\n",
        "        # Compute SSIM\n",
        "        score = ssim(real_images.detach(), fake.detach())\n",
        "        SSIM_SCORES.append(score.detach().cpu())\n",
        "\n",
        "\n",
        "\n",
        "    SSIM_SCORES_EPOCHS.append(np.mean(SSIM_SCORES))\n",
        "    SSIM_SCORES.clear()\n",
        "\n",
        "    KID_SCORES_EPOCHS.append(np.mean(KID_SCORES))\n",
        "    KID_SCORES.clear()\n",
        "\n",
        "    # Update losses for the epoch\n",
        "    d_losses.append(d_loss_total / len(dataloader))\n",
        "    g_losses.append(g_loss_total / len(dataloader))\n",
        "\n",
        "    # Save model checkpoints\n",
        "    os.makedirs('./Epochs', exist_ok=True)\n",
        "    torch.save(G.state_dict(), f'./Epochs/G_epoch_{epoch}.pth')\n",
        "    torch.save(D.state_dict(), f'./Epochs/D_epoch_{epoch}.pth')\n",
        "\n",
        "    # Print progress\n",
        "    print(f'Epoch [{epoch + 1}/{num_epochs}], d_loss: {d_losses[-1]:.4f}, g_loss: {g_losses[-1]:.4f}')\n",
        "\n",
        "    #Save images generated in epoch 10,20,50\n",
        "    if (epoch+1) in [10, 30, 50]:\n",
        "              save_images(epoch+1)\n",
        "\n",
        "run.finish"
      ],
      "metadata": {
        "colab": {
          "base_uri": "https://localhost:8080/",
          "height": 1000
        },
        "id": "2tqbOQ5ZxzKP",
        "outputId": "c785ecc6-8de9-4f4a-d734-a53fc4c14b9a"
      },
      "execution_count": 46,
      "outputs": [
        {
          "output_type": "display_data",
          "data": {
            "text/plain": [
              "<IPython.core.display.HTML object>"
            ],
            "text/html": []
          },
          "metadata": {}
        },
        {
          "output_type": "display_data",
          "data": {
            "text/plain": [
              "<IPython.core.display.HTML object>"
            ],
            "text/html": [
              " View run <strong style=\"color:#cdcd00\">solar-dust-1</strong> at: <a href='https://wandb.ai/lorrayne-reis-silva-city-university-of-london/SAGAN-DCGAN_final_run/runs/dpvqonhi' target=\"_blank\">https://wandb.ai/lorrayne-reis-silva-city-university-of-london/SAGAN-DCGAN_final_run/runs/dpvqonhi</a><br> View project at: <a href='https://wandb.ai/lorrayne-reis-silva-city-university-of-london/SAGAN-DCGAN_final_run' target=\"_blank\">https://wandb.ai/lorrayne-reis-silva-city-university-of-london/SAGAN-DCGAN_final_run</a><br>Synced 5 W&B file(s), 0 media file(s), 0 artifact file(s) and 0 other file(s)"
            ]
          },
          "metadata": {}
        },
        {
          "output_type": "display_data",
          "data": {
            "text/plain": [
              "<IPython.core.display.HTML object>"
            ],
            "text/html": [
              "Find logs at: <code>./wandb/run-20250427_141428-dpvqonhi/logs</code>"
            ]
          },
          "metadata": {}
        },
        {
          "output_type": "display_data",
          "data": {
            "text/plain": [
              "<IPython.core.display.HTML object>"
            ],
            "text/html": [
              "Tracking run with wandb version 0.19.9"
            ]
          },
          "metadata": {}
        },
        {
          "output_type": "display_data",
          "data": {
            "text/plain": [
              "<IPython.core.display.HTML object>"
            ],
            "text/html": [
              "Run data is saved locally in <code>/content/wandb/run-20250427_141448-3sobsffw</code>"
            ]
          },
          "metadata": {}
        },
        {
          "output_type": "display_data",
          "data": {
            "text/plain": [
              "<IPython.core.display.HTML object>"
            ],
            "text/html": [
              "Syncing run <strong><a href='https://wandb.ai/lorrayne-reis-silva-city-university-of-london/SAGAN-DCGAN_final_run/runs/3sobsffw' target=\"_blank\">dashing-frog-2</a></strong> to <a href='https://wandb.ai/lorrayne-reis-silva-city-university-of-london/SAGAN-DCGAN_final_run' target=\"_blank\">Weights & Biases</a> (<a href='https://wandb.me/developer-guide' target=\"_blank\">docs</a>)<br>"
            ]
          },
          "metadata": {}
        },
        {
          "output_type": "display_data",
          "data": {
            "text/plain": [
              "<IPython.core.display.HTML object>"
            ],
            "text/html": [
              " View project at <a href='https://wandb.ai/lorrayne-reis-silva-city-university-of-london/SAGAN-DCGAN_final_run' target=\"_blank\">https://wandb.ai/lorrayne-reis-silva-city-university-of-london/SAGAN-DCGAN_final_run</a>"
            ]
          },
          "metadata": {}
        },
        {
          "output_type": "display_data",
          "data": {
            "text/plain": [
              "<IPython.core.display.HTML object>"
            ],
            "text/html": [
              " View run at <a href='https://wandb.ai/lorrayne-reis-silva-city-university-of-london/SAGAN-DCGAN_final_run/runs/3sobsffw' target=\"_blank\">https://wandb.ai/lorrayne-reis-silva-city-university-of-london/SAGAN-DCGAN_final_run/runs/3sobsffw</a>"
            ]
          },
          "metadata": {}
        },
        {
          "output_type": "stream",
          "name": "stderr",
          "text": [
            "<ipython-input-34-c9143fbaa307>:17: UserWarning: To copy construct from a tensor, it is recommended to use sourceTensor.clone().detach() or sourceTensor.clone().detach().requires_grad_(True), rather than torch.tensor(sourceTensor).\n",
            "  real_features, generated_features = torch.tensor(real_features), torch.tensor(generated_features)\n"
          ]
        },
        {
          "output_type": "stream",
          "name": "stdout",
          "text": [
            "Epoch [1/50], d_loss: 0.7659, g_loss: 1.9614\n",
            "Epoch [2/50], d_loss: 1.2217, g_loss: 0.9191\n",
            "Epoch [3/50], d_loss: 1.2398, g_loss: 0.8831\n",
            "Epoch [4/50], d_loss: 1.1974, g_loss: 0.9071\n",
            "Epoch [5/50], d_loss: 1.1367, g_loss: 0.9420\n",
            "Epoch [6/50], d_loss: 1.1420, g_loss: 0.9364\n",
            "Epoch [7/50], d_loss: 1.1455, g_loss: 0.9351\n",
            "Epoch [8/50], d_loss: 1.1760, g_loss: 0.8869\n",
            "Epoch [9/50], d_loss: 1.1913, g_loss: 0.8706\n",
            "Epoch [10/50], d_loss: 1.2075, g_loss: 0.8571\n",
            "Epoch [11/50], d_loss: 1.2398, g_loss: 0.8247\n",
            "Epoch [12/50], d_loss: 1.2548, g_loss: 0.8086\n",
            "Epoch [13/50], d_loss: 1.2698, g_loss: 0.7952\n",
            "Epoch [14/50], d_loss: 1.2907, g_loss: 0.7748\n",
            "Epoch [15/50], d_loss: 1.2993, g_loss: 0.7737\n",
            "Epoch [16/50], d_loss: 1.3068, g_loss: 0.7968\n",
            "Epoch [17/50], d_loss: 1.2553, g_loss: 0.8264\n",
            "Epoch [18/50], d_loss: 1.2911, g_loss: 0.7812\n",
            "Epoch [19/50], d_loss: 1.3137, g_loss: 0.7540\n",
            "Epoch [20/50], d_loss: 1.3218, g_loss: 0.7472\n",
            "Epoch [21/50], d_loss: 1.3186, g_loss: 0.7564\n",
            "Epoch [22/50], d_loss: 1.3304, g_loss: 0.7444\n",
            "Epoch [23/50], d_loss: 1.3256, g_loss: 0.7499\n",
            "Epoch [24/50], d_loss: 1.3399, g_loss: 0.7338\n",
            "Epoch [25/50], d_loss: 1.3414, g_loss: 0.7350\n",
            "Epoch [26/50], d_loss: 1.3318, g_loss: 0.7438\n",
            "Epoch [27/50], d_loss: 1.3438, g_loss: 0.7304\n",
            "Epoch [28/50], d_loss: 1.3256, g_loss: 0.7527\n",
            "Epoch [29/50], d_loss: 1.3434, g_loss: 0.7319\n",
            "Epoch [30/50], d_loss: 1.3434, g_loss: 0.7304\n",
            "Epoch [31/50], d_loss: 1.3378, g_loss: 0.7392\n",
            "Epoch [32/50], d_loss: 1.3373, g_loss: 0.7394\n",
            "Epoch [33/50], d_loss: 1.3451, g_loss: 0.7296\n",
            "Epoch [34/50], d_loss: 1.3248, g_loss: 0.7567\n",
            "Epoch [35/50], d_loss: 1.3488, g_loss: 0.7257\n",
            "Epoch [36/50], d_loss: 1.3418, g_loss: 0.7343\n",
            "Epoch [37/50], d_loss: 1.3492, g_loss: 0.7276\n",
            "Epoch [38/50], d_loss: 1.3505, g_loss: 0.7294\n",
            "Epoch [39/50], d_loss: 1.3496, g_loss: 0.7259\n",
            "Epoch [40/50], d_loss: 1.3429, g_loss: 0.7355\n",
            "Epoch [41/50], d_loss: 1.3524, g_loss: 0.7231\n",
            "Epoch [42/50], d_loss: 1.3500, g_loss: 0.7290\n",
            "Epoch [43/50], d_loss: 1.3504, g_loss: 0.7346\n",
            "Epoch [44/50], d_loss: 1.3493, g_loss: 0.7243\n",
            "Epoch [45/50], d_loss: 1.3546, g_loss: 0.7243\n",
            "Epoch [46/50], d_loss: 1.3506, g_loss: 0.7292\n",
            "Epoch [47/50], d_loss: 1.3513, g_loss: 0.7256\n",
            "Epoch [48/50], d_loss: 1.3554, g_loss: 0.7262\n",
            "Epoch [49/50], d_loss: 1.3543, g_loss: 0.7250\n",
            "Epoch [50/50], d_loss: 1.3556, g_loss: 0.7227\n"
          ]
        },
        {
          "output_type": "execute_result",
          "data": {
            "text/plain": [
              "<bound method Run.finish of <wandb.sdk.wandb_run.Run object at 0x79e6a95394d0>>"
            ],
            "text/html": [
              "<div style=\"max-width:800px; border: 1px solid var(--colab-border-color);\"><style>\n",
              "      pre.function-repr-contents {\n",
              "        overflow-x: auto;\n",
              "        padding: 8px 12px;\n",
              "        max-height: 500px;\n",
              "      }\n",
              "\n",
              "      pre.function-repr-contents.function-repr-contents-collapsed {\n",
              "        cursor: pointer;\n",
              "        max-height: 100px;\n",
              "      }\n",
              "    </style>\n",
              "    <pre style=\"white-space: initial; background:\n",
              "         var(--colab-secondary-surface-color); padding: 8px 12px;\n",
              "         border-bottom: 1px solid var(--colab-border-color);\"><b>wandb.sdk.wandb_run.Run.finish</b><br/>def finish(exit_code: int | None=None, quiet: bool | None=None) -&gt; None</pre><pre class=\"function-repr-contents function-repr-contents-collapsed\" style=\"\"><a class=\"filepath\" style=\"display:none\" href=\"#\">/usr/local/lib/python3.11/dist-packages/wandb/sdk/wandb_run.py</a>Finish a run and upload any remaining data.\n",
              "\n",
              "Marks the completion of a W&amp;B run and ensures all data is synced to the server.\n",
              "The run&#x27;s final state is determined by its exit conditions and sync status.\n",
              "\n",
              "Run States:\n",
              "- Running: Active run that is logging data and/or sending heartbeats.\n",
              "- Crashed: Run that stopped sending heartbeats unexpectedly.\n",
              "- Finished: Run completed successfully (`exit_code=0`) with all data synced.\n",
              "- Failed: Run completed with errors (`exit_code!=0`).\n",
              "\n",
              "Args:\n",
              "    exit_code: Integer indicating the run&#x27;s exit status. Use 0 for success,\n",
              "        any other value marks the run as failed.\n",
              "    quiet: Deprecated. Configure logging verbosity using `wandb.Settings(quiet=...)`.</pre>\n",
              "      <script>\n",
              "      if (google.colab.kernel.accessAllowed && google.colab.files && google.colab.files.view) {\n",
              "        for (const element of document.querySelectorAll('.filepath')) {\n",
              "          element.style.display = 'block'\n",
              "          element.onclick = (event) => {\n",
              "            event.preventDefault();\n",
              "            event.stopPropagation();\n",
              "            google.colab.files.view(element.textContent, 2150);\n",
              "          };\n",
              "        }\n",
              "      }\n",
              "      for (const element of document.querySelectorAll('.function-repr-contents')) {\n",
              "        element.onclick = (event) => {\n",
              "          event.preventDefault();\n",
              "          event.stopPropagation();\n",
              "          element.classList.toggle('function-repr-contents-collapsed');\n",
              "        };\n",
              "      }\n",
              "      </script>\n",
              "      </div>"
            ]
          },
          "metadata": {},
          "execution_count": 46
        }
      ]
    },
    {
      "cell_type": "code",
      "source": [
        "plt.figure(figsize=(10, 5))\n",
        "plt.plot(d_losses, label='Discriminator Loss')\n",
        "plt.plot(g_losses, label='Generator Loss')\n",
        "plt.xlabel('Epoch')\n",
        "plt.ylabel('Loss')\n",
        "plt.title('Training Losses')\n",
        "plt.legend()\n",
        "plt.grid()\n",
        "os.makedirs('./Metrics', exist_ok=True)\n",
        "plt.savefig('./Metrics/SN_DCGAN_generator_discriminator_losses.png')\n",
        "plt.show()"
      ],
      "metadata": {
        "id": "2N6FUqfrzCoK",
        "colab": {
          "base_uri": "https://localhost:8080/",
          "height": 455
        },
        "outputId": "bb2f2af5-0376-4cbf-eaac-3e7d91a07834"
      },
      "execution_count": 47,
      "outputs": [
        {
          "output_type": "display_data",
          "data": {
            "text/plain": [
              "<Figure size 1000x500 with 1 Axes>"
            ],
            "image/png": "[encoded data removed]"
          },
          "metadata": {}
        }
      ]
    },
    {
      "cell_type": "code",
      "source": [
        "plt.title(\"SSIM for every Epoch\")\n",
        "plt.plot(SSIM_SCORES_EPOCHS,color=\"green\")\n",
        "plt.grid()\n",
        "plt.savefig('./Metrics/SN_DCGAN_SSIM.png')\n",
        "plt.show()"
      ],
      "metadata": {
        "colab": {
          "base_uri": "https://localhost:8080/",
          "height": 452
        },
        "id": "BkC68oVJldOe",
        "outputId": "220c87b7-edf1-4cca-ebbd-aa6e72e7fa3c"
      },
      "execution_count": 48,
      "outputs": [
        {
          "output_type": "display_data",
          "data": {
            "text/plain": [
              "<Figure size 640x480 with 1 Axes>"
            ],
            "image/png": "[encoded data removed]"
          },
          "metadata": {}
        }
      ]
    },
    {
      "cell_type": "code",
      "source": [
        "plt.title(\"KID in every Epoch\")\n",
        "plt.plot(KID_SCORES_EPOCHS,color=\"yellow\")\n",
        "plt.grid()\n",
        "plt.savefig('./Metrics/SN_KID_losses.png')\n",
        "plt.show()"
      ],
      "metadata": {
        "colab": {
          "base_uri": "https://localhost:8080/",
          "height": 452
        },
        "id": "aC90Vd1cli10",
        "outputId": "b53211f7-35b7-484d-9828-c1550e2b4a84"
      },
      "execution_count": 49,
      "outputs": [
        {
          "output_type": "display_data",
          "data": {
            "text/plain": [
              "<Figure size 640x480 with 1 Axes>"
            ],
            "image/png": "[encoded data removed]"
          },
          "metadata": {}
        }
      ]
    }
  ]
}